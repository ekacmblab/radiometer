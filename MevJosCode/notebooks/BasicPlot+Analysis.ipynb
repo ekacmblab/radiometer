{
 "cells": [
  {
   "cell_type": "code",
   "execution_count": 1,
   "metadata": {
    "collapsed": true
   },
   "outputs": [],
   "source": [
    "import glob"
   ]
  },
  {
   "cell_type": "code",
   "execution_count": 2,
   "metadata": {
    "collapsed": false
   },
   "outputs": [
    {
     "name": "stdout",
     "output_type": "stream",
     "text": [
      "Populating the interactive namespace from numpy and matplotlib\n"
     ]
    }
   ],
   "source": [
    "%pylab inline"
   ]
  },
  {
   "cell_type": "code",
   "execution_count": 3,
   "metadata": {
    "collapsed": false
   },
   "outputs": [],
   "source": [
    "import numpy as np\n",
    "import time\n",
    "import visa\n",
    "from scipy.optimize import curve_fit"
   ]
  },
  {
   "cell_type": "code",
   "execution_count": 8,
   "metadata": {
    "collapsed": false
   },
   "outputs": [
    {
     "name": "stdout",
     "output_type": "stream",
     "text": [
      "/Users/APR1/Google Drive/COLUMBIA/S6/InterLab/radiometer\n"
     ]
    }
   ],
   "source": [
    "cd .."
   ]
  },
  {
   "cell_type": "code",
   "execution_count": 9,
   "metadata": {
    "collapsed": false
   },
   "outputs": [
    {
     "name": "stdout",
     "output_type": "stream",
     "text": [
      "['Data/2016-11-18_14:39:10_Readout.txt', 'Data/2016-11-18_14:41:54_Readout.txt', 'Data/2016-11-18_14:43:40_Readout.txt', 'Data/2016-11-18_14:45:45_Readout.txt', 'Data/2016-11-18_14:47:29_Readout.txt', 'Data/2016-11-18_14:48:48_Readout.txt', 'Data/2016-11-18_14:51:28_Readout.txt', 'Data/2016-11-18_14:53:24_Readout.txt', 'Data/2016-11-18_14:56:37_Readout.txt', 'Data/2016-11-18_14:59:01_Readout.txt', 'Data/2016-11-18_15:01:03_Readout.txt', 'Data/2016-11-18_15:02:32_Readout.txt', 'Data/2016-11-18_15:04:02_Readout.txt', 'Data/2016-11-18_15:05:25_Readout.txt', 'Data/2016-11-18_15:06:46_Readout.txt', 'Data/2016-11-18_15:08:22_Readout.txt', 'Data/2016-11-18_15:10:12_Readout.txt', 'Data/2016-11-18_15:11:39_Readout.txt', 'Data/2016-11-18_15:13:36_Readout.txt', 'Data/2016-11-18_15:16:00_Readout.txt', 'Data/2016-11-18_15:17:31_Readout.txt', 'Data/2016-11-18_15:19:16_Readout.txt', 'Data/2016-11-18_15:20:39_Readout.txt', 'Data/2016-11-18_15:23:25_Readout.txt', 'Data/2016-11-18_15:25:09_Readout.txt', 'Data/2016-11-18_15:26:50_Readout.txt', 'Data/2016-11-18_15:28:49_Readout.txt', 'Data/2016-11-18_15:30:27_Readout.txt', 'Data/2016-11-18_15:31:52_Readout.txt', 'Data/2016-11-18_15:33:46_Readout.txt', 'Data/2016-11-18_15:35:41_Readout.txt', 'Data/2016-11-18_15:37:16_Readout.txt', 'Data/2016-11-18_15:38:48_Readout.txt', 'Data/2016-11-18_15:40:12_Readout.txt', 'Data/2016-11-18_15:43:48_Readout.txt', 'Data/2016-11-18_15:46:34_Readout.txt', 'Data/2016-11-18_15:49:31_Readout.txt', 'Data/2016-11-18_15:51:06_Readout.txt', 'Data/2016-11-18_15:58:10_Readout.txt', 'Data/2016-11-18_16:00:09_Readout.txt', 'Data/2016-11-18_16:01:55_Readout.txt', 'Data/2016-11-18_16:03:40_Readout.txt', 'Data/2016-11-18_16:05:05_Readout.txt', 'Data/2016-11-18_16:06:18_Readout.txt', 'Data/2016-11-18_16:08:04_Readout.txt', 'Data/2016-11-18_16:09:37_Readout.txt', 'Data/2016-11-18_16:11:05_Readout.txt', 'Data/2016-11-18_16:12:46_Readout.txt', 'Data/2016-11-18_16:14:06_Readout.txt', 'Data/2016-11-18_16:15:30_Readout.txt', 'Data/2016-11-18_16:16:59_Readout.txt', 'Data/2016-11-18_16:18:26_Readout.txt', 'Data/2016-11-18_16:19:45_Readout.txt', 'Data/2016-11-18_16:21:04_Readout.txt', 'Data/2016-11-18_16:22:18_Readout.txt', 'Data/2016-11-18_16:23:32_Readout.txt', 'Data/2016-11-18_16:24:54_Readout.txt', 'Data/2016-11-18_16:26:27_Readout.txt', 'Data/2016-11-18_16:27:48_Readout.txt', 'Data/2016-11-18_16:29:45_Readout.txt', 'Data/2016-11-18_16:33:20_Readout.txt', 'Data/2016-11-18_16:35:56_Readout.txt', 'Data/2016-11-18_16:37:05_Readout.txt', 'Data/2016-11-18_16:43:45_Readout.txt', 'Data/2016-11-18_16:44:57_Readout.txt', 'Data/2016-11-18_16:46:10_Readout.txt', 'Data/2016-11-18_16:47:15_Readout.txt', 'Data/2016-11-18_16:49:27_Readout.txt', 'Data/2016-11-18_16:53:14_Readout.txt']\n"
     ]
    }
   ],
   "source": [
    "# select measurments from specific date\n",
    "date = \"2016-11-18\"\n",
    "# select time\n",
    "t = \"\"\n",
    "# files with matching name\n",
    "files = glob.glob(\"Data/\"+date+\"_\"+t+\"*.txt\")\n",
    "print(files)"
   ]
  },
  {
   "cell_type": "code",
   "execution_count": 14,
   "metadata": {
    "collapsed": false
   },
   "outputs": [
    {
     "name": "stdout",
     "output_type": "stream",
     "text": [
      "-0.134122651007\n",
      "-0.82530251046\n",
      "-0.820930427494\n",
      "-0.134269572506\n",
      "-0.816263735343\n",
      "-0.812628187919\n",
      "-0.134297654941\n",
      "-0.810855201342\n",
      "-0.808286097152\n",
      "-0.134138512949\n",
      "-0.807342594142\n",
      "-0.806728702929\n",
      "-0.134276948868\n",
      "-0.80668812709\n",
      "-0.80722372171\n",
      "-0.13414681742\n",
      "-0.806812981575\n",
      "-0.806355406538\n",
      "-0.134281004184\n",
      "-0.808303179916\n",
      "-0.123863012552\n",
      "-0.129306957685\n",
      "-0.814508626466\n",
      "-0.815849246231\n"
     ]
    },
    {
     "data": {
      "image/png": "[encoded data removed]",
      "text/plain": [
       "<matplotlib.figure.Figure at 0x111fd2588>"
      ]
     },
     "metadata": {},
     "output_type": "display_data"
    }
   ],
   "source": [
    "# plot power versus time for selected files\n",
    "for f in files[-28:-4]:\n",
    "    data=np.loadtxt(f)\n",
    "    plot(data[:,0],-data[:,1], '.')\n",
    "    grid()\n",
    "    #print(np.mean(data[:,1]))\n",
    "plt.ylabel('power')\n",
    "plt.xlabel('time (s)')\n",
    "# Save figure \n",
    "#plt.savefig('Figures/power_Raw.png',bbox_inches='tight') \n",
    "savefig(\"Data/2016-11-11_Interval-1m_90-20.png\")"
   ]
  }
 ],
 "metadata": {
  "anaconda-cloud": {},
  "kernelspec": {
   "display_name": "Python [conda root]",
   "language": "python",
   "name": "conda-root-py"
  },
  "language_info": {
   "codemirror_mode": {
    "name": "ipython",
    "version": 3
   },
   "file_extension": ".py",
   "mimetype": "text/x-python",
   "name": "python",
   "nbconvert_exporter": "python",
   "pygments_lexer": "ipython3",
   "version": "3.5.2"
  }
 },
 "nbformat": 4,
 "nbformat_minor": 1
}
