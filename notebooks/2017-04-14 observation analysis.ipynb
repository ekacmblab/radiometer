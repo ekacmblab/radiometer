{
 "cells": [
  {
   "cell_type": "code",
   "execution_count": 1,
   "metadata": {
    "collapsed": false
   },
   "outputs": [
    {
     "name": "stdout",
     "output_type": "stream",
     "text": [
      "Populating the interactive namespace from numpy and matplotlib\n"
     ]
    }
   ],
   "source": [
    "%pylab inline"
   ]
  },
  {
   "cell_type": "code",
   "execution_count": 2,
   "metadata": {
    "collapsed": false
   },
   "outputs": [
    {
     "data": {
      "text/plain": [
       "u'/Users/cosmology/radiometer/notebooks'"
      ]
     },
     "execution_count": 2,
     "metadata": {},
     "output_type": "execute_result"
    }
   ],
   "source": [
    "pwd"
   ]
  },
  {
   "cell_type": "code",
   "execution_count": 3,
   "metadata": {
    "collapsed": true
   },
   "outputs": [],
   "source": [
    "fdir = '/Users/cosmology/radiometer/ReadoutApp/observation/'"
   ]
  },
  {
   "cell_type": "code",
   "execution_count": 4,
   "metadata": {
    "collapsed": true
   },
   "outputs": [],
   "source": [
    "import glob"
   ]
  },
  {
   "cell_type": "code",
   "execution_count": 5,
   "metadata": {
    "collapsed": true
   },
   "outputs": [],
   "source": [
    "fnames = glob.glob(fdir+'*.txt')"
   ]
  },
  {
   "cell_type": "code",
   "execution_count": 6,
   "metadata": {
    "collapsed": false
   },
   "outputs": [
    {
     "data": {
      "text/plain": [
       "['/Users/cosmology/radiometer/ReadoutApp/observation/2017-04-14_13:54:43test.txt',\n",
       " '/Users/cosmology/radiometer/ReadoutApp/observation/2017-04-14_13:56:19.txt',\n",
       " '/Users/cosmology/radiometer/ReadoutApp/observation/2017-04-14_13:57:26.txt',\n",
       " '/Users/cosmology/radiometer/ReadoutApp/observation/2017-04-14_13:58:18.txt',\n",
       " '/Users/cosmology/radiometer/ReadoutApp/observation/2017-04-14_13:59:17.txt',\n",
       " '/Users/cosmology/radiometer/ReadoutApp/observation/2017-04-14_13:59:59.txt',\n",
       " '/Users/cosmology/radiometer/ReadoutApp/observation/2017-04-14_14:00:44.txt',\n",
       " '/Users/cosmology/radiometer/ReadoutApp/observation/2017-04-14_14:01:40.txt',\n",
       " '/Users/cosmology/radiometer/ReadoutApp/observation/2017-04-14_14:02:23.txt',\n",
       " '/Users/cosmology/radiometer/ReadoutApp/observation/2017-04-14_14:03:11.txt',\n",
       " '/Users/cosmology/radiometer/ReadoutApp/observation/2017-04-14_14:03:55.txt',\n",
       " '/Users/cosmology/radiometer/ReadoutApp/observation/2017-04-14_14:04:35.txt',\n",
       " '/Users/cosmology/radiometer/ReadoutApp/observation/2017-04-14_14:05:52_Readout.txt',\n",
       " '/Users/cosmology/radiometer/ReadoutApp/observation/2017-04-14_14:06:37_Readout.txt',\n",
       " '/Users/cosmology/radiometer/ReadoutApp/observation/2017-04-14_14:07:25_Readout.txt',\n",
       " '/Users/cosmology/radiometer/ReadoutApp/observation/2017-04-14_14:08:08_Readout.txt',\n",
       " '/Users/cosmology/radiometer/ReadoutApp/observation/2017-04-14_14:08:58_Readout.txt',\n",
       " '/Users/cosmology/radiometer/ReadoutApp/observation/2017-04-14_14:10:25_Readout.txt',\n",
       " '/Users/cosmology/radiometer/ReadoutApp/observation/2017-04-14_14:11:35_Readout.txt',\n",
       " '/Users/cosmology/radiometer/ReadoutApp/observation/2017-04-14_14:12:48_Readout.txt',\n",
       " '/Users/cosmology/radiometer/ReadoutApp/observation/2017-04-14_14:14:02_Readout.txt',\n",
       " '/Users/cosmology/radiometer/ReadoutApp/observation/2017-04-14_14:15:18_Readout.txt',\n",
       " '/Users/cosmology/radiometer/ReadoutApp/observation/2017-04-14_14:16:13_Readout.txt',\n",
       " '/Users/cosmology/radiometer/ReadoutApp/observation/2017-04-14_14:17:44_Readout.txt',\n",
       " '/Users/cosmology/radiometer/ReadoutApp/observation/2017-04-14_14:18:44_Readout.txt',\n",
       " '/Users/cosmology/radiometer/ReadoutApp/observation/2017-04-14_14:19:57_Readout.txt',\n",
       " '/Users/cosmology/radiometer/ReadoutApp/observation/2017-04-14_14:23:41_Readout.txt',\n",
       " '/Users/cosmology/radiometer/ReadoutApp/observation/2017-04-14_14:24:07_Readout.txt',\n",
       " '/Users/cosmology/radiometer/ReadoutApp/observation/2017-04-14_14:24:55_Readout.txt',\n",
       " '/Users/cosmology/radiometer/ReadoutApp/observation/2017-04-14_14:26:03_Readout.txt',\n",
       " '/Users/cosmology/radiometer/ReadoutApp/observation/2017-04-14_14:26:54_Readout.txt',\n",
       " '/Users/cosmology/radiometer/ReadoutApp/observation/2017-04-14_14:27:38_Readout.txt',\n",
       " '/Users/cosmology/radiometer/ReadoutApp/observation/2017-04-14_14:28:18_Readout.txt',\n",
       " '/Users/cosmology/radiometer/ReadoutApp/observation/2017-04-14_14:29:00_Readout.txt',\n",
       " '/Users/cosmology/radiometer/ReadoutApp/observation/2017-04-14_14:29:41_Readout.txt',\n",
       " '/Users/cosmology/radiometer/ReadoutApp/observation/2017-04-14_14:30:11_Readout.txt',\n",
       " '/Users/cosmology/radiometer/ReadoutApp/observation/2017-04-14_14:31:00_Readout.txt',\n",
       " '/Users/cosmology/radiometer/ReadoutApp/observation/2017-04-14_14:32:11_Readout.txt',\n",
       " '/Users/cosmology/radiometer/ReadoutApp/observation/2017-04-14_14:32:51_Readout.txt',\n",
       " '/Users/cosmology/radiometer/ReadoutApp/observation/2017-04-14_14:33:44_Readout.txt',\n",
       " '/Users/cosmology/radiometer/ReadoutApp/observation/2017-04-14_14:34:31_Readout.txt',\n",
       " '/Users/cosmology/radiometer/ReadoutApp/observation/2017-04-14_14:35:15_Readout.txt',\n",
       " '/Users/cosmology/radiometer/ReadoutApp/observation/2017-04-14_14:35:57_Readout.txt',\n",
       " '/Users/cosmology/radiometer/ReadoutApp/observation/2017-04-14_14:36:37_Readout.txt',\n",
       " '/Users/cosmology/radiometer/ReadoutApp/observation/2017-04-14_14:37:25_Readout.txt',\n",
       " '/Users/cosmology/radiometer/ReadoutApp/observation/2017-04-14_14:38:11_Readout.txt',\n",
       " '/Users/cosmology/radiometer/ReadoutApp/observation/2017-04-14_14:38:55_Readout.txt',\n",
       " '/Users/cosmology/radiometer/ReadoutApp/observation/2017-04-14_14:39:40_Readout.txt',\n",
       " '/Users/cosmology/radiometer/ReadoutApp/observation/2017-04-14_14:40:24_Readout.txt',\n",
       " '/Users/cosmology/radiometer/ReadoutApp/observation/2017-04-14_14:41:06_Readout.txt',\n",
       " '/Users/cosmology/radiometer/ReadoutApp/observation/2017-04-14_14:41:47_Readout.txt',\n",
       " '/Users/cosmology/radiometer/ReadoutApp/observation/2017-04-14_14:42:37_Readout.txt',\n",
       " '/Users/cosmology/radiometer/ReadoutApp/observation/2017-04-14_14:43:21_Readout.txt',\n",
       " '/Users/cosmology/radiometer/ReadoutApp/observation/2017-04-14_14:44:03_Readout.txt',\n",
       " '/Users/cosmology/radiometer/ReadoutApp/observation/2017-04-14_14:44:54_Readout.txt',\n",
       " '/Users/cosmology/radiometer/ReadoutApp/observation/2017-04-14_14:45:24_Readout.txt',\n",
       " '/Users/cosmology/radiometer/ReadoutApp/observation/2017-04-14_14:46:34_Readout.txt',\n",
       " '/Users/cosmology/radiometer/ReadoutApp/observation/2017-04-14_14:47:32_Readout.txt',\n",
       " '/Users/cosmology/radiometer/ReadoutApp/observation/2017-04-14_14:54:50_Readout.txt',\n",
       " '/Users/cosmology/radiometer/ReadoutApp/observation/2017-04-14_14:55:43_Readout.txt',\n",
       " '/Users/cosmology/radiometer/ReadoutApp/observation/2017-04-14_14:57:04_Readout.txt',\n",
       " '/Users/cosmology/radiometer/ReadoutApp/observation/2017-04-14_14:57:50_Readout.txt',\n",
       " '/Users/cosmology/radiometer/ReadoutApp/observation/2017-04-14_14:58:37_Readout.txt',\n",
       " '/Users/cosmology/radiometer/ReadoutApp/observation/2017-04-14_14:59:25_Readout.txt',\n",
       " '/Users/cosmology/radiometer/ReadoutApp/observation/2017-04-14_15:00:10_Readout.txt',\n",
       " '/Users/cosmology/radiometer/ReadoutApp/observation/2017-04-14_15:00:57_Readout.txt',\n",
       " '/Users/cosmology/radiometer/ReadoutApp/observation/2017-04-14_15:01:44_Readout.txt',\n",
       " '/Users/cosmology/radiometer/ReadoutApp/observation/2017-04-14_15:02:28_Readout.txt',\n",
       " '/Users/cosmology/radiometer/ReadoutApp/observation/2017-04-14_15:03:09_Readout.txt',\n",
       " '/Users/cosmology/radiometer/ReadoutApp/observation/2017-04-14_15:03:55_Readout.txt',\n",
       " '/Users/cosmology/radiometer/ReadoutApp/observation/2017-04-14_15:04:32_Readout.txt',\n",
       " '/Users/cosmology/radiometer/ReadoutApp/observation/2017-04-14_15:05:15_Readout.txt',\n",
       " '/Users/cosmology/radiometer/ReadoutApp/observation/2017-04-14_15:05:59_Readout.txt',\n",
       " '/Users/cosmology/radiometer/ReadoutApp/observation/2017-04-14_15:06:47_Readout.txt',\n",
       " '/Users/cosmology/radiometer/ReadoutApp/observation/2017-04-14_15:07:53_Readout.txt',\n",
       " '/Users/cosmology/radiometer/ReadoutApp/observation/2017-04-14_15:08:46_Readout.txt']"
      ]
     },
     "execution_count": 6,
     "metadata": {},
     "output_type": "execute_result"
    }
   ],
   "source": [
    "fnames"
   ]
  },
  {
   "cell_type": "code",
   "execution_count": 13,
   "metadata": {
    "collapsed": false
   },
   "outputs": [
    {
     "data": {
      "image/png": "[encoded data removed]",
      "text/plain": [
       "<matplotlib.figure.Figure at 0x10d416150>"
      ]
     },
     "metadata": {},
     "output_type": "display_data"
    }
   ],
   "source": [
    "for f in fnames[:-18]:\n",
    "    x = np.loadtxt(f)\n",
    "    plot(x[:,0], x[:,1])"
   ]
  },
  {
   "cell_type": "code",
   "execution_count": 14,
   "metadata": {
    "collapsed": true
   },
   "outputs": [],
   "source": [
    "fnames13v = fnames[-18:]\n",
    "fnames = fnames[:-18]"
   ]
  },
  {
   "cell_type": "code",
   "execution_count": null,
   "metadata": {
    "collapsed": true
   },
   "outputs": [],
   "source": []
  },
  {
   "cell_type": "code",
   "execution_count": 15,
   "metadata": {
    "collapsed": false
   },
   "outputs": [
    {
     "data": {
      "image/png": "[encoded data removed]",
      "text/plain": [
       "<matplotlib.figure.Figure at 0x10cfcdbd0>"
      ]
     },
     "metadata": {},
     "output_type": "display_data"
    }
   ],
   "source": [
    "for f in fnames13v:\n",
    "    x = np.loadtxt(f)\n",
    "    plot(x[:,0], x[:,1])"
   ]
  },
  {
   "cell_type": "code",
   "execution_count": 17,
   "metadata": {
    "collapsed": true
   },
   "outputs": [],
   "source": [
    "nitrofiles = []\n",
    "datafiles = []\n",
    "paddlefiles = []\n",
    "for f in fnames13v:\n",
    "    x = np.loadtxt(f)\n",
    "    avg = np.mean(x[:,1])\n",
    "    if avg < 0.2:\n",
    "        paddlefiles.append(f)\n",
    "    elif avg < 0.9:\n",
    "        datafiles.append(f)\n",
    "    else:\n",
    "        nitrofiles.append(f)"
   ]
  },
  {
   "cell_type": "code",
   "execution_count": null,
   "metadata": {
    "collapsed": true
   },
   "outputs": [],
   "source": []
  },
  {
   "cell_type": "code",
   "execution_count": 20,
   "metadata": {
    "collapsed": false
   },
   "outputs": [
    {
     "data": {
      "image/png": "[encoded data removed]",
      "text/plain": [
       "<matplotlib.figure.Figure at 0x10d005690>"
      ]
     },
     "metadata": {},
     "output_type": "display_data"
    }
   ],
   "source": [
    "for f in datafiles:\n",
    "    x = np.loadtxt(f)\n",
    "    plot(x[:,0], x[:,1])"
   ]
  },
  {
   "cell_type": "code",
   "execution_count": 22,
   "metadata": {
    "collapsed": false
   },
   "outputs": [],
   "source": [
    "x = np.loadtxt(f)"
   ]
  },
  {
   "cell_type": "code",
   "execution_count": 27,
   "metadata": {
    "collapsed": false
   },
   "outputs": [],
   "source": [
    "fl = open(f)"
   ]
  },
  {
   "cell_type": "code",
   "execution_count": 37,
   "metadata": {
    "collapsed": false
   },
   "outputs": [
    {
     "data": {
      "text/plain": [
       "'# Comments: 13 V\\n'"
      ]
     },
     "execution_count": 37,
     "metadata": {},
     "output_type": "execute_result"
    }
   ],
   "source": [
    "fl.readline()"
   ]
  },
  {
   "cell_type": "code",
   "execution_count": 42,
   "metadata": {
    "collapsed": true
   },
   "outputs": [],
   "source": [
    "fl.close()"
   ]
  },
  {
   "cell_type": "code",
   "execution_count": null,
   "metadata": {
    "collapsed": true
   },
   "outputs": [],
   "source": []
  },
  {
   "cell_type": "code",
   "execution_count": 48,
   "metadata": {
    "collapsed": false
   },
   "outputs": [
    {
     "data": {
      "text/plain": [
       "'/Users/cosmology/radiometer/ReadoutApp/observation/2017-04-14_15:05:59_Readout.txt'"
      ]
     },
     "execution_count": 48,
     "metadata": {},
     "output_type": "execute_result"
    }
   ],
   "source": [
    "f"
   ]
  },
  {
   "cell_type": "code",
   "execution_count": 56,
   "metadata": {
    "collapsed": false
   },
   "outputs": [
    {
     "name": "stdout",
     "output_type": "stream",
     "text": [
      "# Angle pointing (from vertical): 0\n",
      "\n",
      "# Angle pointing (from vertical): 10\n",
      "\n",
      "# Angle pointing (from vertical): 20\n",
      "\n",
      "# Angle pointing (from vertical): 30\n",
      "\n",
      "# Angle pointing (from vertical): 40\n",
      "\n",
      "# Angle pointing (from vertical): 50\n",
      "\n",
      "# Angle pointing (from vertical): 60\n",
      "\n",
      "# Angle pointing (from vertical): 50\n",
      "\n",
      "# Angle pointing (from vertical): 40\n",
      "\n",
      "# Angle pointing (from vertical): 30\n",
      "\n",
      "# Angle pointing (from vertical): 20\n",
      "\n",
      "# Angle pointing (from vertical): 10\n",
      "\n",
      "# Angle pointing (from vertical): 0\n",
      "\n"
     ]
    }
   ],
   "source": [
    "angles = []\n",
    "for f in datafiles:\n",
    "    fl = open(f)\n",
    "    for k in range(8):\n",
    "        fl.readline()\n",
    "        if k == 2:\n",
    "            print fl.readline()"
   ]
  },
  {
   "cell_type": "code",
   "execution_count": 59,
   "metadata": {
    "collapsed": true
   },
   "outputs": [],
   "source": [
    "angles = np.arange(7) * 10"
   ]
  },
  {
   "cell_type": "code",
   "execution_count": 63,
   "metadata": {
    "collapsed": false
   },
   "outputs": [
    {
     "data": {
      "text/plain": [
       "array([50, 40, 30, 20, 10,  0])"
      ]
     },
     "execution_count": 63,
     "metadata": {},
     "output_type": "execute_result"
    }
   ],
   "source": [
    "angles[5::-1]"
   ]
  },
  {
   "cell_type": "code",
   "execution_count": 64,
   "metadata": {
    "collapsed": false
   },
   "outputs": [],
   "source": [
    "angles = np.concatenate([angles, angles[5::-1]])"
   ]
  },
  {
   "cell_type": "code",
   "execution_count": 65,
   "metadata": {
    "collapsed": false
   },
   "outputs": [
    {
     "data": {
      "text/plain": [
       "array([ 0, 10, 20, 30, 40, 50, 60, 50, 40, 30, 20, 10,  0])"
      ]
     },
     "execution_count": 65,
     "metadata": {},
     "output_type": "execute_result"
    }
   ],
   "source": [
    "angles"
   ]
  },
  {
   "cell_type": "code",
   "execution_count": 66,
   "metadata": {
    "collapsed": true
   },
   "outputs": [],
   "source": [
    "meandatas = []\n",
    "for f in datafiles:\n",
    "    x = np.loadtxt(f)\n",
    "    meandatas.append(np.mean(x[:,1]))"
   ]
  },
  {
   "cell_type": "code",
   "execution_count": 68,
   "metadata": {
    "collapsed": false
   },
   "outputs": [
    {
     "data": {
      "text/plain": [
       "[<matplotlib.lines.Line2D at 0x10e3269d0>]"
      ]
     },
     "execution_count": 68,
     "metadata": {},
     "output_type": "execute_result"
    },
    {
     "data": {
      "image/png": "[encoded data removed]",
      "text/plain": [
       "<matplotlib.figure.Figure at 0x10d7ab190>"
      ]
     },
     "metadata": {},
     "output_type": "display_data"
    }
   ],
   "source": [
    "plot(angles, meandatas, '.')"
   ]
  },
  {
   "cell_type": "code",
   "execution_count": 69,
   "metadata": {
    "collapsed": true
   },
   "outputs": [],
   "source": [
    "angles = angles[:6]\n",
    "meandatas = meandatas[:6]"
   ]
  },
  {
   "cell_type": "code",
   "execution_count": 70,
   "metadata": {
    "collapsed": false
   },
   "outputs": [
    {
     "data": {
      "text/plain": [
       "[<matplotlib.lines.Line2D at 0x10ccef090>]"
      ]
     },
     "execution_count": 70,
     "metadata": {},
     "output_type": "execute_result"
    },
    {
     "data": {
      "image/png": "[encoded data removed]",
      "text/plain": [
       "<matplotlib.figure.Figure at 0x10d316990>"
      ]
     },
     "metadata": {},
     "output_type": "display_data"
    }
   ],
   "source": [
    "plot(angles, meandatas, '.')"
   ]
  },
  {
   "cell_type": "code",
   "execution_count": 72,
   "metadata": {
    "collapsed": true
   },
   "outputs": [],
   "source": [
    "radangles = angles * np.pi / 180."
   ]
  },
  {
   "cell_type": "code",
   "execution_count": 74,
   "metadata": {
    "collapsed": false
   },
   "outputs": [
    {
     "data": {
      "text/plain": [
       "[<matplotlib.lines.Line2D at 0x10e464b50>]"
      ]
     },
     "execution_count": 74,
     "metadata": {},
     "output_type": "execute_result"
    },
    {
     "data": {
      "image/png": "[encoded data removed]",
      "text/plain": [
       "<matplotlib.figure.Figure at 0x10e020710>"
      ]
     },
     "metadata": {},
     "output_type": "display_data"
    }
   ],
   "source": [
    "plot(1./np.cos(radangles), meandatas)"
   ]
  },
  {
   "cell_type": "code",
   "execution_count": 75,
   "metadata": {
    "collapsed": true
   },
   "outputs": [],
   "source": [
    "def line(x, m, b):\n",
    "    return m*x + b"
   ]
  },
  {
   "cell_type": "code",
   "execution_count": 76,
   "metadata": {
    "collapsed": true
   },
   "outputs": [],
   "source": [
    "from scipy.optimize import curve_fit"
   ]
  },
  {
   "cell_type": "code",
   "execution_count": 78,
   "metadata": {
    "collapsed": false
   },
   "outputs": [],
   "source": [
    "x = 1./np.cos(radangles)\n",
    "y = np.array(meandatas) + 0.0"
   ]
  },
  {
   "cell_type": "code",
   "execution_count": 79,
   "metadata": {
    "collapsed": true
   },
   "outputs": [],
   "source": [
    "popt = curve_fit(line, x, y)"
   ]
  },
  {
   "cell_type": "code",
   "execution_count": 93,
   "metadata": {
    "collapsed": false
   },
   "outputs": [
    {
     "data": {
      "text/plain": [
       "<matplotlib.text.Text at 0x110058110>"
      ]
     },
     "execution_count": 93,
     "metadata": {},
     "output_type": "execute_result"
    },
    {
     "data": {
      "image/png": "[encoded data removed]",
      "text/plain": [
       "<matplotlib.figure.Figure at 0x10fecc490>"
      ]
     },
     "metadata": {},
     "output_type": "display_data"
    }
   ],
   "source": [
    "plot(x, y, 'o')\n",
    "plot(xp, line(xp, *popt[0]))\n",
    "xlabel('fractional atmospheric depth')\n",
    "ylabel('power [nW]')"
   ]
  },
  {
   "cell_type": "code",
   "execution_count": 94,
   "metadata": {
    "collapsed": true
   },
   "outputs": [],
   "source": [
    "cmbpower = popt[0][1]"
   ]
  },
  {
   "cell_type": "code",
   "execution_count": 96,
   "metadata": {
    "collapsed": false
   },
   "outputs": [
    {
     "name": "stdout",
     "output_type": "stream",
     "text": [
      "0.777387165648\n"
     ]
    }
   ],
   "source": [
    "print cmbpower #nanoWatts"
   ]
  },
  {
   "cell_type": "code",
   "execution_count": null,
   "metadata": {
    "collapsed": true
   },
   "outputs": [],
   "source": []
  },
  {
   "cell_type": "code",
   "execution_count": 142,
   "metadata": {
    "collapsed": false
   },
   "outputs": [
    {
     "data": {
      "text/plain": [
       "array([[  1.07350658e-09,  -2.22515463e-07],\n",
       "       [ -2.22515463e-07,   5.82324717e-05]])"
      ]
     },
     "execution_count": 142,
     "metadata": {},
     "output_type": "execute_result"
    }
   ],
   "source": [
    "popt[1]"
   ]
  },
  {
   "cell_type": "code",
   "execution_count": 84,
   "metadata": {
    "collapsed": false
   },
   "outputs": [
    {
     "data": {
      "text/plain": [
       "array([ 0.01869711,  0.77738717])"
      ]
     },
     "execution_count": 84,
     "metadata": {},
     "output_type": "execute_result"
    }
   ],
   "source": [
    "popt[0]"
   ]
  },
  {
   "cell_type": "code",
   "execution_count": 87,
   "metadata": {
    "collapsed": false
   },
   "outputs": [
    {
     "data": {
      "text/plain": [
       "array([ 1.        ,  1.01542661,  1.06417777,  1.15470054,  1.30540729,\n",
       "        1.55572383])"
      ]
     },
     "execution_count": 87,
     "metadata": {},
     "output_type": "execute_result"
    }
   ],
   "source": [
    "x"
   ]
  },
  {
   "cell_type": "code",
   "execution_count": 91,
   "metadata": {
    "collapsed": false
   },
   "outputs": [],
   "source": [
    "xp = np.concatenate([np.zeros(1), x])"
   ]
  },
  {
   "cell_type": "code",
   "execution_count": 92,
   "metadata": {
    "collapsed": false
   },
   "outputs": [
    {
     "data": {
      "text/plain": [
       "array([ 0.        ,  1.        ,  1.01542661,  1.06417777,  1.15470054,\n",
       "        1.30540729,  1.55572383])"
      ]
     },
     "execution_count": 92,
     "metadata": {},
     "output_type": "execute_result"
    }
   ],
   "source": [
    "xp"
   ]
  },
  {
   "cell_type": "code",
   "execution_count": null,
   "metadata": {
    "collapsed": true
   },
   "outputs": [],
   "source": []
  },
  {
   "cell_type": "code",
   "execution_count": null,
   "metadata": {
    "collapsed": true
   },
   "outputs": [],
   "source": []
  },
  {
   "cell_type": "code",
   "execution_count": 97,
   "metadata": {
    "collapsed": false
   },
   "outputs": [
    {
     "data": {
      "text/plain": [
       "['/Users/cosmology/radiometer/ReadoutApp/observation/2017-04-14_14:57:04_Readout.txt',\n",
       " '/Users/cosmology/radiometer/ReadoutApp/observation/2017-04-14_15:07:53_Readout.txt',\n",
       " '/Users/cosmology/radiometer/ReadoutApp/observation/2017-04-14_15:08:46_Readout.txt']"
      ]
     },
     "execution_count": 97,
     "metadata": {},
     "output_type": "execute_result"
    }
   ],
   "source": [
    "paddlefiles"
   ]
  },
  {
   "cell_type": "code",
   "execution_count": 98,
   "metadata": {
    "collapsed": false
   },
   "outputs": [
    {
     "data": {
      "text/plain": [
       "['/Users/cosmology/radiometer/ReadoutApp/observation/2017-04-14_14:55:43_Readout.txt',\n",
       " '/Users/cosmology/radiometer/ReadoutApp/observation/2017-04-14_15:06:47_Readout.txt']"
      ]
     },
     "execution_count": 98,
     "metadata": {},
     "output_type": "execute_result"
    }
   ],
   "source": [
    "nitrofiles"
   ]
  },
  {
   "cell_type": "code",
   "execution_count": 101,
   "metadata": {
    "collapsed": true
   },
   "outputs": [],
   "source": [
    "nitropower = []\n",
    "for f in nitrofiles:\n",
    "    x = np.loadtxt(f)\n",
    "    nitropower.append(np.mean(x[:,1]))"
   ]
  },
  {
   "cell_type": "code",
   "execution_count": 102,
   "metadata": {
    "collapsed": false
   },
   "outputs": [
    {
     "data": {
      "text/plain": [
       "[0.94649763513513507, 0.94231481481481483]"
      ]
     },
     "execution_count": 102,
     "metadata": {},
     "output_type": "execute_result"
    }
   ],
   "source": [
    "nitropower"
   ]
  },
  {
   "cell_type": "code",
   "execution_count": 109,
   "metadata": {
    "collapsed": false
   },
   "outputs": [],
   "source": [
    "paddlepower = []\n",
    "paddletemps = []\n",
    "for f in paddlefiles:\n",
    "    x = np.loadtxt(f)\n",
    "    paddlepower.append(np.mean(x[:,1])*10)\n",
    "    paddletemps.append(np.mean(x[:,2]))"
   ]
  },
  {
   "cell_type": "code",
   "execution_count": 110,
   "metadata": {
    "collapsed": false
   },
   "outputs": [
    {
     "data": {
      "text/plain": [
       "[1.4233682432432433, 1.4082398648648651, 1.4263648648648646]"
      ]
     },
     "execution_count": 110,
     "metadata": {},
     "output_type": "execute_result"
    }
   ],
   "source": [
    "paddlepower"
   ]
  },
  {
   "cell_type": "code",
   "execution_count": 111,
   "metadata": {
    "collapsed": false
   },
   "outputs": [
    {
     "data": {
      "text/plain": [
       "[<matplotlib.lines.Line2D at 0x110408610>]"
      ]
     },
     "execution_count": 111,
     "metadata": {},
     "output_type": "execute_result"
    },
    {
     "data": {
      "image/png": "[encoded data removed]",
      "text/plain": [
       "<matplotlib.figure.Figure at 0x10fd26a90>"
      ]
     },
     "metadata": {},
     "output_type": "display_data"
    }
   ],
   "source": [
    "plot(paddletemps, paddlepower)"
   ]
  },
  {
   "cell_type": "code",
   "execution_count": 115,
   "metadata": {
    "collapsed": true
   },
   "outputs": [],
   "source": [
    "nitrotemps = [77.2, 77.2]"
   ]
  },
  {
   "cell_type": "code",
   "execution_count": 116,
   "metadata": {
    "collapsed": false
   },
   "outputs": [
    {
     "data": {
      "text/plain": [
       "[<matplotlib.lines.Line2D at 0x11046b850>]"
      ]
     },
     "execution_count": 116,
     "metadata": {},
     "output_type": "execute_result"
    },
    {
     "data": {
      "image/png": "[encoded data removed]",
      "text/plain": [
       "<matplotlib.figure.Figure at 0x11043f710>"
      ]
     },
     "metadata": {},
     "output_type": "display_data"
    }
   ],
   "source": [
    "plot(paddletemps, paddlepower, '.')\n",
    "plot(nitrotemps, nitropower, '.')"
   ]
  },
  {
   "cell_type": "code",
   "execution_count": 119,
   "metadata": {
    "collapsed": false
   },
   "outputs": [],
   "source": [
    "xc = np.concatenate([nitrotemps, paddletemps])"
   ]
  },
  {
   "cell_type": "code",
   "execution_count": 120,
   "metadata": {
    "collapsed": true
   },
   "outputs": [],
   "source": [
    "yc = np.concatenate([nitropower, paddlepower])"
   ]
  },
  {
   "cell_type": "code",
   "execution_count": 130,
   "metadata": {
    "collapsed": true
   },
   "outputs": [],
   "source": [
    "popt2 = curve_fit(line, yc, xc)"
   ]
  },
  {
   "cell_type": "code",
   "execution_count": 131,
   "metadata": {
    "collapsed": false
   },
   "outputs": [
    {
     "data": {
      "text/plain": [
       "(array([ 456.17907447, -353.5278892 ]), array([[ 46.55098235, -57.22777979],\n",
       "        [-57.22777979,  72.87508189]]))"
      ]
     },
     "execution_count": 131,
     "metadata": {},
     "output_type": "execute_result"
    }
   ],
   "source": [
    "popt2"
   ]
  },
  {
   "cell_type": "code",
   "execution_count": 140,
   "metadata": {
    "collapsed": false
   },
   "outputs": [
    {
     "data": {
      "image/png": "[encoded data removed]",
      "text/plain": [
       "<matplotlib.figure.Figure at 0x11105e090>"
      ]
     },
     "metadata": {},
     "output_type": "display_data"
    }
   ],
   "source": [
    "plot(yc, xc, '.')\n",
    "plot(yc2, line(yc2, *popt2[0]))\n",
    "yscale('log')"
   ]
  },
  {
   "cell_type": "code",
   "execution_count": 134,
   "metadata": {
    "collapsed": false
   },
   "outputs": [
    {
     "data": {
      "text/plain": [
       "1.0998685308462655"
      ]
     },
     "execution_count": 134,
     "metadata": {},
     "output_type": "execute_result"
    }
   ],
   "source": [
    "line(cmbpower, *popt2[0])"
   ]
  },
  {
   "cell_type": "code",
   "execution_count": 135,
   "metadata": {
    "collapsed": false
   },
   "outputs": [
    {
     "data": {
      "text/plain": [
       "0.77738716564799792"
      ]
     },
     "execution_count": 135,
     "metadata": {},
     "output_type": "execute_result"
    }
   ],
   "source": [
    "cmbpower"
   ]
  },
  {
   "cell_type": "code",
   "execution_count": 137,
   "metadata": {
    "collapsed": false
   },
   "outputs": [],
   "source": [
    "yc2 = np.concatenate([np.ones(1)*cmbpower, yc])"
   ]
  },
  {
   "cell_type": "code",
   "execution_count": 138,
   "metadata": {
    "collapsed": false
   },
   "outputs": [
    {
     "data": {
      "text/plain": [
       "array([ 0.77738717,  0.94649764,  0.94231481,  1.42336824,  1.40823986,\n",
       "        1.42636486])"
      ]
     },
     "execution_count": 138,
     "metadata": {},
     "output_type": "execute_result"
    }
   ],
   "source": [
    "yc2"
   ]
  },
  {
   "cell_type": "code",
   "execution_count": null,
   "metadata": {
    "collapsed": true
   },
   "outputs": [],
   "source": []
  }
 ],
 "metadata": {
  "kernelspec": {
   "display_name": "Python 2",
   "language": "python",
   "name": "python2"
  },
  "language_info": {
   "codemirror_mode": {
    "name": "ipython",
    "version": 2
   },
   "file_extension": ".py",
   "mimetype": "text/x-python",
   "name": "python",
   "nbconvert_exporter": "python",
   "pygments_lexer": "ipython2",
   "version": "2.7.12"
  }
 },
 "nbformat": 4,
 "nbformat_minor": 1
}
