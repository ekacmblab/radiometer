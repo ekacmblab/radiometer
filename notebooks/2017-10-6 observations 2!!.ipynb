{
 "cells": [
  {
   "cell_type": "code",
   "execution_count": 1,
   "metadata": {
    "collapsed": false
   },
   "outputs": [
    {
     "name": "stdout",
     "output_type": "stream",
     "text": [
      "Populating the interactive namespace from numpy and matplotlib\n"
     ]
    }
   ],
   "source": [
    "% pylab inline\n"
   ]
  },
  {
   "cell_type": "code",
   "execution_count": 2,
   "metadata": {
    "collapsed": true
   },
   "outputs": [],
   "source": [
    "import glob"
   ]
  },
  {
   "cell_type": "code",
   "execution_count": 7,
   "metadata": {
    "collapsed": true
   },
   "outputs": [],
   "source": [
    "datafiles = glob.glob('/Users/cosmology/radiometer/ReadoutApp/Data/2017-10-06*d*')"
   ]
  },
  {
   "cell_type": "code",
   "execution_count": 8,
   "metadata": {
    "collapsed": false
   },
   "outputs": [
    {
     "data": {
      "text/plain": [
       "['/Users/cosmology/radiometer/ReadoutApp/Data/2017-10-06_14:15:25skydip_warmbox.txt',\n",
       " '/Users/cosmology/radiometer/ReadoutApp/Data/2017-10-06_14:21:36skydip_0d.txt',\n",
       " '/Users/cosmology/radiometer/ReadoutApp/Data/2017-10-06_14:22:35skydip_10d.txt',\n",
       " '/Users/cosmology/radiometer/ReadoutApp/Data/2017-10-06_14:23:26skydip_20d.txt',\n",
       " '/Users/cosmology/radiometer/ReadoutApp/Data/2017-10-06_14:24:28skydip_30d.txt',\n",
       " '/Users/cosmology/radiometer/ReadoutApp/Data/2017-10-06_14:25:18skydip_40d.txt',\n",
       " '/Users/cosmology/radiometer/ReadoutApp/Data/2017-10-06_14:26:07skydip_50d.txt',\n",
       " '/Users/cosmology/radiometer/ReadoutApp/Data/2017-10-06_14:26:59skydip_60d.txt',\n",
       " '/Users/cosmology/radiometer/ReadoutApp/Data/2017-10-06_14:28:03skydip_70d.txt',\n",
       " '/Users/cosmology/radiometer/ReadoutApp/Data/2017-10-06_14:29:08skydip_60d_up.txt',\n",
       " '/Users/cosmology/radiometer/ReadoutApp/Data/2017-10-06_14:29:58skydip_50d_up.txt',\n",
       " '/Users/cosmology/radiometer/ReadoutApp/Data/2017-10-06_14:31:00skydip_40d_up.txt',\n",
       " '/Users/cosmology/radiometer/ReadoutApp/Data/2017-10-06_14:32:07skydip_30d_up.txt',\n",
       " '/Users/cosmology/radiometer/ReadoutApp/Data/2017-10-06_14:33:07skydip_20d_up.txt',\n",
       " '/Users/cosmology/radiometer/ReadoutApp/Data/2017-10-06_14:34:10skydip_10d_up.txt',\n",
       " '/Users/cosmology/radiometer/ReadoutApp/Data/2017-10-06_14:35:11skydip_00d_up.txt',\n",
       " '/Users/cosmology/radiometer/ReadoutApp/Data/2017-10-06_14:36:43skydip_2_warmbox.txt',\n",
       " '/Users/cosmology/radiometer/ReadoutApp/Data/2017-10-06_14:37:50skydip_2_00d.txt',\n",
       " '/Users/cosmology/radiometer/ReadoutApp/Data/2017-10-06_14:39:11skydip_2_10d.txt',\n",
       " '/Users/cosmology/radiometer/ReadoutApp/Data/2017-10-06_14:40:04skydip_2_20d.txt',\n",
       " '/Users/cosmology/radiometer/ReadoutApp/Data/2017-10-06_14:40:56skydip_2_30d.txt',\n",
       " '/Users/cosmology/radiometer/ReadoutApp/Data/2017-10-06_14:41:56skydip_2_40d.txt',\n",
       " '/Users/cosmology/radiometer/ReadoutApp/Data/2017-10-06_14:42:48skydip_2_30d_up.txt',\n",
       " '/Users/cosmology/radiometer/ReadoutApp/Data/2017-10-06_14:43:41skydip_2_20d_up.txt',\n",
       " '/Users/cosmology/radiometer/ReadoutApp/Data/2017-10-06_14:44:24skydip_2_10d_up.txt',\n",
       " '/Users/cosmology/radiometer/ReadoutApp/Data/2017-10-06_14:45:12skydip_2_00d_up.txt',\n",
       " '/Users/cosmology/radiometer/ReadoutApp/Data/2017-10-06_14:46:26skydip_3_15d.txt',\n",
       " '/Users/cosmology/radiometer/ReadoutApp/Data/2017-10-06_14:47:19skydip_3_30d.txt',\n",
       " '/Users/cosmology/radiometer/ReadoutApp/Data/2017-10-06_14:48:11skydip_3_45d.txt',\n",
       " '/Users/cosmology/radiometer/ReadoutApp/Data/2017-10-06_14:49:04skydip_3_60d.txt',\n",
       " '/Users/cosmology/radiometer/ReadoutApp/Data/2017-10-06_14:50:02skydip_3_45d_up.txt',\n",
       " '/Users/cosmology/radiometer/ReadoutApp/Data/2017-10-06_14:51:01skydip_3_30d_up.txt',\n",
       " '/Users/cosmology/radiometer/ReadoutApp/Data/2017-10-06_14:51:55skydip_3_15d_up.txt',\n",
       " '/Users/cosmology/radiometer/ReadoutApp/Data/2017-10-06_14:52:59skydip_3_00d_up.txt',\n",
       " '/Users/cosmology/radiometer/ReadoutApp/Data/2017-10-06_14:53:59skydip_3_warmbox.txt',\n",
       " '/Users/cosmology/radiometer/ReadoutApp/Data/2017-10-06_14:56:03skydip_nitrobox.txt']"
      ]
     },
     "execution_count": 8,
     "metadata": {},
     "output_type": "execute_result"
    }
   ],
   "source": [
    "datafiles"
   ]
  },
  {
   "cell_type": "code",
   "execution_count": 5,
   "metadata": {
    "collapsed": false
   },
   "outputs": [
    {
     "name": "stdout",
     "output_type": "stream",
     "text": [
      "/Users/cosmology\n"
     ]
    }
   ],
   "source": [
    "cd"
   ]
  },
  {
   "cell_type": "code",
   "execution_count": 6,
   "metadata": {
    "collapsed": false
   },
   "outputs": [
    {
     "name": "stdout",
     "output_type": "stream",
     "text": [
      "\u001b[34mApplications\u001b[m\u001b[m/   \u001b[34mDownloads\u001b[m\u001b[m/      \u001b[34mMovies\u001b[m\u001b[m/         Untitled.ipynb\r\n",
      "\u001b[34mDesktop\u001b[m\u001b[m/        \u001b[34mGoogle Drive\u001b[m\u001b[m/   \u001b[34mMusic\u001b[m\u001b[m/          \u001b[34manaconda2\u001b[m\u001b[m/\r\n",
      "\u001b[34mDocuments\u001b[m\u001b[m/      \u001b[34mLibrary\u001b[m\u001b[m/        \u001b[34mPictures\u001b[m\u001b[m/       \u001b[34mradiometer\u001b[m\u001b[m/\r\n"
     ]
    }
   ],
   "source": [
    "ls"
   ]
  },
  {
   "cell_type": "code",
   "execution_count": 9,
   "metadata": {
    "collapsed": false
   },
   "outputs": [
    {
     "name": "stdout",
     "output_type": "stream",
     "text": [
      "/Users/cosmology/radiometer\n"
     ]
    }
   ],
   "source": [
    "cd radiometer\n"
   ]
  },
  {
   "cell_type": "code",
   "execution_count": 10,
   "metadata": {
    "collapsed": false
   },
   "outputs": [
    {
     "name": "stdout",
     "output_type": "stream",
     "text": [
      "\u001b[34mData\u001b[m\u001b[m/       \u001b[34mMevJosCode\u001b[m\u001b[m/ README.md   \u001b[34mReadoutApp\u001b[m\u001b[m/ \u001b[34mnotebooks\u001b[m\u001b[m/  \u001b[34mold\u001b[m\u001b[m/\r\n"
     ]
    }
   ],
   "source": [
    "ls"
   ]
  },
  {
   "cell_type": "code",
   "execution_count": 11,
   "metadata": {
    "collapsed": false
   },
   "outputs": [
    {
     "name": "stdout",
     "output_type": "stream",
     "text": [
      "/Users/cosmology/radiometer/ReadoutApp\n"
     ]
    }
   ],
   "source": [
    "cd ReadoutApp/"
   ]
  },
  {
   "cell_type": "code",
   "execution_count": 12,
   "metadata": {
    "collapsed": false
   },
   "outputs": [
    {
     "name": "stdout",
     "output_type": "stream",
     "text": [
      "\u001b[34mData\u001b[m\u001b[m/              electronics.py     notes              thermoreadout.py\r\n",
      "\u001b[31mReadoutGUI.py\u001b[m\u001b[m*     electronics.pyc    \u001b[34mobservation\u001b[m\u001b[m/       thermoreadout.pyc\r\n"
     ]
    }
   ],
   "source": [
    "ls"
   ]
  },
  {
   "cell_type": "code",
   "execution_count": 13,
   "metadata": {
    "collapsed": false
   },
   "outputs": [
    {
     "name": "stdout",
     "output_type": "stream",
     "text": [
      "/Users/cosmology/radiometer/ReadoutApp/Data\n"
     ]
    }
   ],
   "source": [
    "cd Data"
   ]
  },
  {
   "cell_type": "code",
   "execution_count": 16,
   "metadata": {
    "collapsed": false
   },
   "outputs": [],
   "source": []
  },
  {
   "cell_type": "code",
   "execution_count": 17,
   "metadata": {
    "collapsed": true
   },
   "outputs": [],
   "source": [
    "skydip3 = glob.glob('/Users/cosmology/radiometer/ReadoutApp/Data/2017-10-06*_3_*')"
   ]
  },
  {
   "cell_type": "code",
   "execution_count": null,
   "metadata": {
    "collapsed": true
   },
   "outputs": [],
   "source": []
  },
  {
   "cell_type": "code",
   "execution_count": 18,
   "metadata": {
    "collapsed": false
   },
   "outputs": [
    {
     "data": {
      "text/plain": [
       "['/Users/cosmology/radiometer/ReadoutApp/Data/2017-10-06_14:46:26skydip_3_15d.txt',\n",
       " '/Users/cosmology/radiometer/ReadoutApp/Data/2017-10-06_14:47:19skydip_3_30d.txt',\n",
       " '/Users/cosmology/radiometer/ReadoutApp/Data/2017-10-06_14:48:11skydip_3_45d.txt',\n",
       " '/Users/cosmology/radiometer/ReadoutApp/Data/2017-10-06_14:49:04skydip_3_60d.txt',\n",
       " '/Users/cosmology/radiometer/ReadoutApp/Data/2017-10-06_14:50:02skydip_3_45d_up.txt',\n",
       " '/Users/cosmology/radiometer/ReadoutApp/Data/2017-10-06_14:51:01skydip_3_30d_up.txt',\n",
       " '/Users/cosmology/radiometer/ReadoutApp/Data/2017-10-06_14:51:55skydip_3_15d_up.txt',\n",
       " '/Users/cosmology/radiometer/ReadoutApp/Data/2017-10-06_14:52:59skydip_3_00d_up.txt',\n",
       " '/Users/cosmology/radiometer/ReadoutApp/Data/2017-10-06_14:53:59skydip_3_warmbox.txt']"
      ]
     },
     "execution_count": 18,
     "metadata": {},
     "output_type": "execute_result"
    }
   ],
   "source": [
    "skydip3"
   ]
  },
  {
   "cell_type": "code",
   "execution_count": 22,
   "metadata": {
    "collapsed": true
   },
   "outputs": [],
   "source": [
    "skydip3without = skydip3[0:8]"
   ]
  },
  {
   "cell_type": "code",
   "execution_count": 27,
   "metadata": {
    "collapsed": false
   },
   "outputs": [
    {
     "data": {
      "text/plain": [
       "['/Users/cosmology/radiometer/ReadoutApp/Data/2017-10-06_14:46:26skydip_3_15d.txt',\n",
       " '/Users/cosmology/radiometer/ReadoutApp/Data/2017-10-06_14:47:19skydip_3_30d.txt',\n",
       " '/Users/cosmology/radiometer/ReadoutApp/Data/2017-10-06_14:48:11skydip_3_45d.txt',\n",
       " '/Users/cosmology/radiometer/ReadoutApp/Data/2017-10-06_14:49:04skydip_3_60d.txt',\n",
       " '/Users/cosmology/radiometer/ReadoutApp/Data/2017-10-06_14:50:02skydip_3_45d_up.txt',\n",
       " '/Users/cosmology/radiometer/ReadoutApp/Data/2017-10-06_14:51:01skydip_3_30d_up.txt',\n",
       " '/Users/cosmology/radiometer/ReadoutApp/Data/2017-10-06_14:51:55skydip_3_15d_up.txt',\n",
       " '/Users/cosmology/radiometer/ReadoutApp/Data/2017-10-06_14:52:59skydip_3_00d_up.txt']"
      ]
     },
     "execution_count": 27,
     "metadata": {},
     "output_type": "execute_result"
    }
   ],
   "source": [
    "skydip3without"
   ]
  },
  {
   "cell_type": "code",
   "execution_count": 28,
   "metadata": {
    "collapsed": true
   },
   "outputs": [],
   "source": [
    "skydip3without.sort()"
   ]
  },
  {
   "cell_type": "code",
   "execution_count": 30,
   "metadata": {
    "collapsed": false
   },
   "outputs": [],
   "source": [
    "skydip3without.append( '/Users/cosmology/radiometer/ReadoutApp/Data/2017-10-06_14:45:12skydip_2_00d_up.txt')"
   ]
  },
  {
   "cell_type": "code",
   "execution_count": 31,
   "metadata": {
    "collapsed": false
   },
   "outputs": [
    {
     "data": {
      "text/plain": [
       "['/Users/cosmology/radiometer/ReadoutApp/Data/2017-10-06_14:46:26skydip_3_15d.txt',\n",
       " '/Users/cosmology/radiometer/ReadoutApp/Data/2017-10-06_14:47:19skydip_3_30d.txt',\n",
       " '/Users/cosmology/radiometer/ReadoutApp/Data/2017-10-06_14:48:11skydip_3_45d.txt',\n",
       " '/Users/cosmology/radiometer/ReadoutApp/Data/2017-10-06_14:49:04skydip_3_60d.txt',\n",
       " '/Users/cosmology/radiometer/ReadoutApp/Data/2017-10-06_14:50:02skydip_3_45d_up.txt',\n",
       " '/Users/cosmology/radiometer/ReadoutApp/Data/2017-10-06_14:51:01skydip_3_30d_up.txt',\n",
       " '/Users/cosmology/radiometer/ReadoutApp/Data/2017-10-06_14:51:55skydip_3_15d_up.txt',\n",
       " '/Users/cosmology/radiometer/ReadoutApp/Data/2017-10-06_14:52:59skydip_3_00d_up.txt',\n",
       " '/Users/cosmology/radiometer/ReadoutApp/Data/2017-10-06_14:45:12skydip_2_00d_up.txt']"
      ]
     },
     "execution_count": 31,
     "metadata": {},
     "output_type": "execute_result"
    }
   ],
   "source": [
    "skydip3without"
   ]
  },
  {
   "cell_type": "code",
   "execution_count": 119,
   "metadata": {
    "collapsed": true
   },
   "outputs": [],
   "source": [
    "times = []\n",
    "brightnesses = []\n",
    "temperatures = []\n",
    "for f in skydip3without:\n",
    "    x = np.loadtxt(f)\n",
    "    time = x[:, 0]\n",
    "    bright = x[:, 1]\n",
    "    temp = x[:, 2]\n",
    "    times = np.concatenate([times, time])\n",
    "    brightnesses = np.concatenate([brightnesses, bright])\n",
    "    temperatures = np.concatenate([temperatures, temp])"
   ]
  },
  {
   "cell_type": "code",
   "execution_count": 120,
   "metadata": {
    "collapsed": false
   },
   "outputs": [
    {
     "data": {
      "text/plain": [
       "[<matplotlib.lines.Line2D at 0x111e2dfd0>]"
      ]
     },
     "execution_count": 120,
     "metadata": {},
     "output_type": "execute_result"
    },
    {
     "data": {
      "image/png": "[encoded data removed]",
      "text/plain": [
       "<matplotlib.figure.Figure at 0x111cd3f90>"
      ]
     },
     "metadata": {},
     "output_type": "display_data"
    }
   ],
   "source": [
    "plot(times,brightnesses, '.')"
   ]
  },
  {
   "cell_type": "code",
   "execution_count": 121,
   "metadata": {
    "collapsed": false
   },
   "outputs": [
    {
     "data": {
      "text/plain": [
       "[<matplotlib.lines.Line2D at 0x1120d1810>]"
      ]
     },
     "execution_count": 121,
     "metadata": {},
     "output_type": "execute_result"
    },
    {
     "data": {
      "image/png": "[encoded data removed]",
      "text/plain": [
       "<matplotlib.figure.Figure at 0x111cd3e90>"
      ]
     },
     "metadata": {},
     "output_type": "display_data"
    }
   ],
   "source": [
    "plot(times, temperatures, '.')"
   ]
  },
  {
   "cell_type": "code",
   "execution_count": 122,
   "metadata": {
    "collapsed": false
   },
   "outputs": [
    {
     "data": {
      "text/plain": [
       "'/Users/cosmology/radiometer/ReadoutApp/Data/2017-10-06_14:45:12skydip_2_00d_up.txt'"
      ]
     },
     "execution_count": 122,
     "metadata": {},
     "output_type": "execute_result"
    }
   ],
   "source": [
    "f"
   ]
  },
  {
   "cell_type": "code",
   "execution_count": 123,
   "metadata": {
    "collapsed": false
   },
   "outputs": [
    {
     "data": {
      "text/plain": [
       "'00'"
      ]
     },
     "execution_count": 123,
     "metadata": {},
     "output_type": "execute_result"
    }
   ],
   "source": [
    "f.split('skydip_')[-1].split('_')[1].split('d')[0]"
   ]
  },
  {
   "cell_type": "code",
   "execution_count": 124,
   "metadata": {
    "collapsed": false
   },
   "outputs": [],
   "source": [
    "brightnesses = []\n",
    "temperatures = []\n",
    "angles = []\n",
    "for f in skydip3without:\n",
    "    x = np.loadtxt(f)\n",
    "    bright = x[:, 1]\n",
    "    temp = x[:, 2]\n",
    "    brightnesses.append(np.mean(bright))\n",
    "    temperatures.append(np.mean(temp))\n",
    "    angle = float(f.split('skydip_')[-1].split('_')[1].split('d')[0])\n",
    "    angles.append(angle)"
   ]
  },
  {
   "cell_type": "code",
   "execution_count": 125,
   "metadata": {
    "collapsed": false
   },
   "outputs": [
    {
     "data": {
      "text/plain": [
       "[15.0, 30.0, 45.0, 60.0, 45.0, 30.0, 15.0, 0.0, 0.0]"
      ]
     },
     "execution_count": 125,
     "metadata": {},
     "output_type": "execute_result"
    }
   ],
   "source": [
    "angles"
   ]
  },
  {
   "cell_type": "code",
   "execution_count": 126,
   "metadata": {
    "collapsed": false
   },
   "outputs": [
    {
     "data": {
      "text/plain": [
       "[0.80875690235690234,\n",
       " 0.81339898989898984,\n",
       " 0.82588181818181816,\n",
       " 0.84860437710437719,\n",
       " 0.82414680134680141,\n",
       " 0.81255151515151514,\n",
       " 0.80839292929292939,\n",
       " 0.80746531986531989,\n",
       " 0.80587205387205385]"
      ]
     },
     "execution_count": 126,
     "metadata": {},
     "output_type": "execute_result"
    }
   ],
   "source": [
    "brightnesses"
   ]
  },
  {
   "cell_type": "code",
   "execution_count": 127,
   "metadata": {
    "collapsed": false
   },
   "outputs": [
    {
     "data": {
      "text/plain": [
       "[<matplotlib.lines.Line2D at 0x11225b390>]"
      ]
     },
     "execution_count": 127,
     "metadata": {},
     "output_type": "execute_result"
    },
    {
     "data": {
      "image/png": "[encoded data removed]",
      "text/plain": [
       "<matplotlib.figure.Figure at 0x1120ea210>"
      ]
     },
     "metadata": {},
     "output_type": "display_data"
    }
   ],
   "source": [
    "plot(angles, brightnesses, 'x')"
   ]
  },
  {
   "cell_type": "code",
   "execution_count": 138,
   "metadata": {
    "collapsed": false
   },
   "outputs": [],
   "source": [
    "depth = 1. / np.cos(np.array(angles) * pi / 180.)"
   ]
  },
  {
   "cell_type": "code",
   "execution_count": null,
   "metadata": {
    "collapsed": true
   },
   "outputs": [],
   "source": []
  },
  {
   "cell_type": "code",
   "execution_count": 139,
   "metadata": {
    "collapsed": false
   },
   "outputs": [
    {
     "data": {
      "text/plain": [
       "[<matplotlib.lines.Line2D at 0x11269ced0>]"
      ]
     },
     "execution_count": 139,
     "metadata": {},
     "output_type": "execute_result"
    },
    {
     "data": {
      "image/png": "[encoded data removed]",
      "text/plain": [
       "<matplotlib.figure.Figure at 0x1123d7ed0>"
      ]
     },
     "metadata": {},
     "output_type": "display_data"
    }
   ],
   "source": [
    "plot(depth, brightnesses, 'x')"
   ]
  },
  {
   "cell_type": "code",
   "execution_count": 130,
   "metadata": {
    "collapsed": true
   },
   "outputs": [],
   "source": [
    "from scipy.optimize import curve_fit"
   ]
  },
  {
   "cell_type": "code",
   "execution_count": 131,
   "metadata": {
    "collapsed": true
   },
   "outputs": [],
   "source": [
    "def line(x, m, b):\n",
    "    return m * x + b"
   ]
  },
  {
   "cell_type": "code",
   "execution_count": 140,
   "metadata": {
    "collapsed": true
   },
   "outputs": [],
   "source": [
    "mask = depth < 1.9"
   ]
  },
  {
   "cell_type": "code",
   "execution_count": 141,
   "metadata": {
    "collapsed": false
   },
   "outputs": [
    {
     "data": {
      "text/plain": [
       "array([ True,  True,  True, False,  True,  True,  True,  True,  True], dtype=bool)"
      ]
     },
     "execution_count": 141,
     "metadata": {},
     "output_type": "execute_result"
    }
   ],
   "source": [
    "mask "
   ]
  },
  {
   "cell_type": "code",
   "execution_count": null,
   "metadata": {
    "collapsed": true
   },
   "outputs": [],
   "source": []
  },
  {
   "cell_type": "code",
   "execution_count": 145,
   "metadata": {
    "collapsed": false
   },
   "outputs": [],
   "source": [
    "optimal, errs = curve_fit(line, depth[mask], np.array(brightnesses)[mask])"
   ]
  },
  {
   "cell_type": "code",
   "execution_count": 146,
   "metadata": {
    "collapsed": false
   },
   "outputs": [
    {
     "data": {
      "text/plain": [
       "0.043894016956393722"
      ]
     },
     "execution_count": 146,
     "metadata": {},
     "output_type": "execute_result"
    }
   ],
   "source": [
    "optimal[0]"
   ]
  },
  {
   "cell_type": "code",
   "execution_count": 147,
   "metadata": {
    "collapsed": false
   },
   "outputs": [
    {
     "data": {
      "text/plain": [
       "0.76278418967784045"
      ]
     },
     "execution_count": 147,
     "metadata": {},
     "output_type": "execute_result"
    }
   ],
   "source": [
    "optimal[1]"
   ]
  },
  {
   "cell_type": "code",
   "execution_count": 148,
   "metadata": {
    "collapsed": false
   },
   "outputs": [
    {
     "data": {
      "text/plain": [
       "<matplotlib.text.Text at 0x1123e3610>"
      ]
     },
     "execution_count": 148,
     "metadata": {},
     "output_type": "execute_result"
    },
    {
     "data": {
      "image/png": "[encoded data removed]",
      "text/plain": [
       "<matplotlib.figure.Figure at 0x111a67750>"
      ]
     },
     "metadata": {},
     "output_type": "display_data"
    }
   ],
   "source": [
    "plot(depth, brightnesses, 'x')\n",
    "#plot(depth, line(depth, optimal[0], optimal[1]))\n",
    "plot(depth, line(depth, *optimal))\n",
    "ylabel('nanoW')\n",
    "xlabel('atmospheric depth unitless')"
   ]
  },
  {
   "cell_type": "code",
   "execution_count": 149,
   "metadata": {
    "collapsed": true
   },
   "outputs": [],
   "source": [
    "cmbbrightness_in_nanoW = line(0, *optimal)"
   ]
  },
  {
   "cell_type": "code",
   "execution_count": 150,
   "metadata": {
    "collapsed": false
   },
   "outputs": [
    {
     "data": {
      "text/plain": [
       "0.76278418967784045"
      ]
     },
     "execution_count": 150,
     "metadata": {},
     "output_type": "execute_result"
    }
   ],
   "source": [
    "cmbbrightness_in_nanoW"
   ]
  },
  {
   "cell_type": "code",
   "execution_count": null,
   "metadata": {
    "collapsed": true
   },
   "outputs": [],
   "source": []
  },
  {
   "cell_type": "code",
   "execution_count": null,
   "metadata": {
    "collapsed": true
   },
   "outputs": [],
   "source": []
  },
  {
   "cell_type": "code",
   "execution_count": 83,
   "metadata": {
    "collapsed": true
   },
   "outputs": [],
   "source": [
    "datafiles = glob.glob('/Users/cosmology/radiometer/ReadoutApp/Data/2017-10-06*box*')"
   ]
  },
  {
   "cell_type": "code",
   "execution_count": 84,
   "metadata": {
    "collapsed": false
   },
   "outputs": [
    {
     "data": {
      "text/plain": [
       "['/Users/cosmology/radiometer/ReadoutApp/Data/2017-10-06_14:15:25skydip_warmbox.txt',\n",
       " '/Users/cosmology/radiometer/ReadoutApp/Data/2017-10-06_14:36:43skydip_2_warmbox.txt',\n",
       " '/Users/cosmology/radiometer/ReadoutApp/Data/2017-10-06_14:53:59skydip_3_warmbox.txt',\n",
       " '/Users/cosmology/radiometer/ReadoutApp/Data/2017-10-06_14:56:03skydip_nitrobox.txt']"
      ]
     },
     "execution_count": 84,
     "metadata": {},
     "output_type": "execute_result"
    }
   ],
   "source": [
    "datafiles"
   ]
  },
  {
   "cell_type": "code",
   "execution_count": 155,
   "metadata": {
    "collapsed": false
   },
   "outputs": [],
   "source": [
    "x = np.loadtxt('/Users/cosmology/radiometer/ReadoutApp/Data/2017-10-06_14:36:43skydip_2_warmbox.txt')\n",
    "warmbrightness = np.mean(x[:, 1]) * 10.\n",
    "warmtemp = np.mean(x[:, 2])"
   ]
  },
  {
   "cell_type": "code",
   "execution_count": 156,
   "metadata": {
    "collapsed": true
   },
   "outputs": [],
   "source": [
    "x = np.loadtxt('/Users/cosmology/radiometer/ReadoutApp/Data/2017-10-06_14:56:03skydip_nitrobox.txt')\n",
    "nitrobrightness = np.mean(x[:, 1])\n",
    "nitrotemp = 77.4"
   ]
  },
  {
   "cell_type": "code",
   "execution_count": 157,
   "metadata": {
    "collapsed": true
   },
   "outputs": [],
   "source": [
    "xdata = np.array([nitrobrightness, warmbrightness])"
   ]
  },
  {
   "cell_type": "code",
   "execution_count": 158,
   "metadata": {
    "collapsed": true
   },
   "outputs": [],
   "source": [
    "ydata = np.array([nitrotemp, warmtemp])"
   ]
  },
  {
   "cell_type": "code",
   "execution_count": 159,
   "metadata": {
    "collapsed": false
   },
   "outputs": [],
   "source": [
    "calib, errs = curve_fit(line, xdata, ydata)"
   ]
  },
  {
   "cell_type": "code",
   "execution_count": 160,
   "metadata": {
    "collapsed": false
   },
   "outputs": [
    {
     "data": {
      "text/plain": [
       "[<matplotlib.lines.Line2D at 0x1127ef510>]"
      ]
     },
     "execution_count": 160,
     "metadata": {},
     "output_type": "execute_result"
    },
    {
     "data": {
      "image/png": "[encoded data removed]",
      "text/plain": [
       "<matplotlib.figure.Figure at 0x1127cc650>"
      ]
     },
     "metadata": {},
     "output_type": "display_data"
    }
   ],
   "source": [
    "plot(xdata, ydata, '.')\n",
    "plot(xdata, line(xdata, *calib))"
   ]
  },
  {
   "cell_type": "code",
   "execution_count": 161,
   "metadata": {
    "collapsed": true
   },
   "outputs": [],
   "source": [
    "cmbtemp = line(cmbbrightness_in_nanoW, *calib)"
   ]
  },
  {
   "cell_type": "code",
   "execution_count": 162,
   "metadata": {
    "collapsed": false
   },
   "outputs": [
    {
     "data": {
      "text/plain": [
       "-5.5779149589400845"
      ]
     },
     "execution_count": 162,
     "metadata": {},
     "output_type": "execute_result"
    }
   ],
   "source": [
    "cmbtemp"
   ]
  },
  {
   "cell_type": "code",
   "execution_count": null,
   "metadata": {
    "collapsed": true
   },
   "outputs": [],
   "source": []
  },
  {
   "cell_type": "code",
   "execution_count": null,
   "metadata": {
    "collapsed": true
   },
   "outputs": [],
   "source": []
  },
  {
   "cell_type": "code",
   "execution_count": null,
   "metadata": {
    "collapsed": true
   },
   "outputs": [],
   "source": []
  },
  {
   "cell_type": "code",
   "execution_count": null,
   "metadata": {
    "collapsed": true
   },
   "outputs": [],
   "source": []
  },
  {
   "cell_type": "code",
   "execution_count": 58,
   "metadata": {
    "collapsed": false
   },
   "outputs": [],
   "source": [
    "boxbright = []\n",
    "boxtemp = []\n",
    "for f in datafiles:\n",
    "    x = np.loadtxt(f)\n",
    "    bright = x[:, 1]\n",
    "    temp = x[:, 2]\n",
    "    brightnesses.append(np.mean(bright))\n",
    "    temperatures.append(np.mean(temp))"
   ]
  },
  {
   "cell_type": "code",
   "execution_count": null,
   "metadata": {
    "collapsed": true
   },
   "outputs": [],
   "source": []
  },
  {
   "cell_type": "code",
   "execution_count": 89,
   "metadata": {
    "collapsed": true
   },
   "outputs": [],
   "source": [
    "boxtimes = []\n",
    "boxbrightnesses = []\n",
    "boxtemperatures = []\n",
    "for f in datafiles[:-1]:\n",
    "    x = np.loadtxt(f)\n",
    "    time = x[:, 0]\n",
    "    bright = x[:, 1]\n",
    "    temp = x[:, 2]\n",
    "    boxtimes = np.concatenate([boxtimes, time])\n",
    "    boxbrightnesses = np.concatenate([boxbrightnesses, bright])\n",
    "    boxtemperatures = np.concatenate([boxtemperatures, temp])"
   ]
  },
  {
   "cell_type": "code",
   "execution_count": 91,
   "metadata": {
    "collapsed": false
   },
   "outputs": [
    {
     "data": {
      "text/plain": [
       "[<matplotlib.lines.Line2D at 0x110ee6750>]"
      ]
     },
     "execution_count": 91,
     "metadata": {},
     "output_type": "execute_result"
    },
    {
     "data": {
      "image/png": "[encoded data removed]",
      "text/plain": [
       "<matplotlib.figure.Figure at 0x11081a150>"
      ]
     },
     "metadata": {},
     "output_type": "display_data"
    }
   ],
   "source": [
    "plot(boxtimes, boxbrightnesses, '.')"
   ]
  },
  {
   "cell_type": "code",
   "execution_count": null,
   "metadata": {
    "collapsed": true
   },
   "outputs": [],
   "source": []
  },
  {
   "cell_type": "code",
   "execution_count": 93,
   "metadata": {
    "collapsed": false
   },
   "outputs": [],
   "source": [
    "boxbright = []\n",
    "boxtemp = []\n",
    "for f in datafiles[:-1]:\n",
    "    x = np.loadtxt(f)\n",
    "    bright = x[:, 1] * 10. \n",
    "    temp = x[:, 2]\n",
    "    boxbright.append(np.mean(bright))\n",
    "    boxtemp.append(np.mean(temp))"
   ]
  },
  {
   "cell_type": "code",
   "execution_count": 96,
   "metadata": {
    "collapsed": false
   },
   "outputs": [
    {
     "data": {
      "text/plain": [
       "[<matplotlib.lines.Line2D at 0x1115c4850>]"
      ]
     },
     "execution_count": 96,
     "metadata": {},
     "output_type": "execute_result"
    },
    {
     "data": {
      "image/png": "[encoded data removed]",
      "text/plain": [
       "<matplotlib.figure.Figure at 0x110cc2410>"
      ]
     },
     "metadata": {},
     "output_type": "display_data"
    }
   ],
   "source": [
    "plot(boxtemp, boxbright, '.')"
   ]
  },
  {
   "cell_type": "code",
   "execution_count": 163,
   "metadata": {
    "collapsed": false
   },
   "outputs": [
    {
     "data": {
      "text/plain": [
       "[15.0, 30.0, 45.0, 60.0, 45.0, 30.0, 15.0, 0.0, 0.0]"
      ]
     },
     "execution_count": 163,
     "metadata": {},
     "output_type": "execute_result"
    }
   ],
   "source": [
    "angles"
   ]
  },
  {
   "cell_type": "code",
   "execution_count": 164,
   "metadata": {
    "collapsed": false
   },
   "outputs": [
    {
     "data": {
      "text/plain": [
       "array([ 1.03527618,  1.15470054,  1.41421356,  2.        ,  1.41421356,\n",
       "        1.15470054,  1.03527618,  1.        ,  1.        ])"
      ]
     },
     "execution_count": 164,
     "metadata": {},
     "output_type": "execute_result"
    }
   ],
   "source": [
    "depth"
   ]
  },
  {
   "cell_type": "code",
   "execution_count": 165,
   "metadata": {
    "collapsed": false
   },
   "outputs": [
    {
     "data": {
      "text/plain": [
       "[0.80875690235690234,\n",
       " 0.81339898989898984,\n",
       " 0.82588181818181816,\n",
       " 0.84860437710437719,\n",
       " 0.82414680134680141,\n",
       " 0.81255151515151514,\n",
       " 0.80839292929292939,\n",
       " 0.80746531986531989,\n",
       " 0.80587205387205385]"
      ]
     },
     "execution_count": 165,
     "metadata": {},
     "output_type": "execute_result"
    }
   ],
   "source": [
    "brightnesses"
   ]
  },
  {
   "cell_type": "code",
   "execution_count": 187,
   "metadata": {
    "collapsed": false
   },
   "outputs": [],
   "source": [
    "fancy = {'my first thingy':angles, 'brightnesses':brightnesses}"
   ]
  },
  {
   "cell_type": "code",
   "execution_count": 190,
   "metadata": {
    "collapsed": false
   },
   "outputs": [
    {
     "data": {
      "text/plain": [
       "['brightnesses', 'my first thingy']"
      ]
     },
     "execution_count": 190,
     "metadata": {},
     "output_type": "execute_result"
    }
   ],
   "source": [
    "fancy.keys()"
   ]
  },
  {
   "cell_type": "code",
   "execution_count": 192,
   "metadata": {
    "collapsed": false
   },
   "outputs": [
    {
     "data": {
      "text/plain": [
       "[('brightnesses',\n",
       "  [0.80875690235690234,\n",
       "   0.81339898989898984,\n",
       "   0.82588181818181816,\n",
       "   0.84860437710437719,\n",
       "   0.82414680134680141,\n",
       "   0.81255151515151514,\n",
       "   0.80839292929292939,\n",
       "   0.80746531986531989,\n",
       "   0.80587205387205385]),\n",
       " ('my first thingy', [15.0, 30.0, 45.0, 60.0, 45.0, 30.0, 15.0, 0.0, 0.0])]"
      ]
     },
     "execution_count": 192,
     "metadata": {},
     "output_type": "execute_result"
    }
   ],
   "source": [
    "fancy.items()"
   ]
  },
  {
   "cell_type": "code",
   "execution_count": 195,
   "metadata": {
    "collapsed": false
   },
   "outputs": [
    {
     "data": {
      "text/plain": [
       "45.0"
      ]
     },
     "execution_count": 195,
     "metadata": {},
     "output_type": "execute_result"
    }
   ],
   "source": [
    "fancy['my first thingy']"
   ]
  },
  {
   "cell_type": "code",
   "execution_count": null,
   "metadata": {
    "collapsed": true
   },
   "outputs": [],
   "source": []
  },
  {
   "cell_type": "code",
   "execution_count": null,
   "metadata": {
    "collapsed": true
   },
   "outputs": [],
   "source": []
  },
  {
   "cell_type": "code",
   "execution_count": 197,
   "metadata": {
    "collapsed": true
   },
   "outputs": [],
   "source": [
    "np.savez('testdatasave', **fancy)"
   ]
  },
  {
   "cell_type": "code",
   "execution_count": 198,
   "metadata": {
    "collapsed": true
   },
   "outputs": [],
   "source": [
    "z = np.load('testdatasave.npz')"
   ]
  },
  {
   "cell_type": "code",
   "execution_count": 199,
   "metadata": {
    "collapsed": false
   },
   "outputs": [
    {
     "data": {
      "text/plain": [
       "['brightnesses', 'my first thingy']"
      ]
     },
     "execution_count": 199,
     "metadata": {},
     "output_type": "execute_result"
    }
   ],
   "source": [
    "z.keys()"
   ]
  },
  {
   "cell_type": "code",
   "execution_count": 200,
   "metadata": {
    "collapsed": false
   },
   "outputs": [
    {
     "data": {
      "text/plain": [
       "array([ 0.8087569 ,  0.81339899,  0.82588182,  0.84860438,  0.8241468 ,\n",
       "        0.81255152,  0.80839293,  0.80746532,  0.80587205])"
      ]
     },
     "execution_count": 200,
     "metadata": {},
     "output_type": "execute_result"
    }
   ],
   "source": [
    "z['brightnesses']"
   ]
  },
  {
   "cell_type": "code",
   "execution_count": 201,
   "metadata": {
    "collapsed": false
   },
   "outputs": [
    {
     "data": {
      "text/plain": [
       "array([ 15.,  30.,  45.,  60.,  45.,  30.,  15.,   0.,   0.])"
      ]
     },
     "execution_count": 201,
     "metadata": {},
     "output_type": "execute_result"
    }
   ],
   "source": [
    "z['my first thingy']"
   ]
  },
  {
   "cell_type": "code",
   "execution_count": null,
   "metadata": {
    "collapsed": true
   },
   "outputs": [],
   "source": []
  }
 ],
 "metadata": {
  "kernelspec": {
   "display_name": "Python 2",
   "language": "python",
   "name": "python2"
  },
  "language_info": {
   "codemirror_mode": {
    "name": "ipython",
    "version": 2
   },
   "file_extension": ".py",
   "mimetype": "text/x-python",
   "name": "python",
   "nbconvert_exporter": "python",
   "pygments_lexer": "ipython2",
   "version": "2.7.12"
  }
 },
 "nbformat": 4,
 "nbformat_minor": 1
}
